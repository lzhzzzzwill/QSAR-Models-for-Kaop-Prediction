{
 "cells": [
  {
   "cell_type": "markdown",
   "metadata": {},
   "source": [
    "# Fingerprint generation"
   ]
  },
  {
   "cell_type": "code",
   "execution_count": null,
   "metadata": {},
   "outputs": [],
   "source": [
    "import numpy as np\n",
    "import pandas as pd\n",
    "from rdkit import Chem\n",
    "from rdkit.Chem import AllChem"
   ]
  },
  {
   "cell_type": "code",
   "execution_count": null,
   "metadata": {},
   "outputs": [],
   "source": [
    "path = '/...'\n",
    "\n",
    "df_train = pd.read_excel(path + 'data.xlsx', sheet_name='train')\n",
    "df_test = pd.read_excel(path + 'data.xlsx', sheet_name='test')"
   ]
  },
  {
   "cell_type": "code",
   "execution_count": null,
   "metadata": {},
   "outputs": [],
   "source": [
    "#Morgan\n",
    "mols_train = [Chem.MolFromSmiles(x) for x in df_train['smiles'].values]\n",
    "mols_test = [Chem.MolFromSmiles(x) for x in df_test['smiles'].values]\n",
    "\n",
    "fps_train = np.array([AllChem.GetMorganFingerprintAsBitVect(x, 2, nBits=1024) for x in mols_train])\n",
    "x_train = pd.DataFrame(fps_train)\n",
    "x_train.to_csv(path + 'MF/Morgan_train.csv')\n",
    "\n",
    "fps_train = np.array([AllChem.GetMorganFingerprintAsBitVect(x, 2, nBits=1024) for x in mols_test])\n",
    "x_test = pd.DataFrame(fps_train)\n",
    "x_test.to_csv(path + 'MF/Morgan_test.csv')"
   ]
  },
  {
   "cell_type": "code",
   "execution_count": null,
   "metadata": {},
   "outputs": [],
   "source": [
    "#MACCS\n",
    "mols_train = [Chem.MolFromSmiles(x) for x in df_train['smiles'].values]\n",
    "mols_test = [Chem.MolFromSmiles(x) for x in df_test['smiles'].values]\n",
    "\n",
    "fps_train = np.array([MACCSkeys.GenMACCSKeys(x) for x in mols_train])\n",
    "x_train = pd.DataFrame(fps_train)\n",
    "x_train.to_csv(path + 'MF/MACCS_train.csv')\n",
    "\n",
    "fps_train = np.array([MACCSkeys.GenMACCSKeys(x) for x in mols_test])\n",
    "x_test = pd.DataFrame(fps_train)\n",
    "x_test.to_csv(path + 'MF/MACCS_test2.csv')"
   ]
  },
  {
   "cell_type": "markdown",
   "metadata": {},
   "source": [
    "# Model parameter tuning"
   ]
  },
  {
   "cell_type": "code",
   "execution_count": null,
   "metadata": {},
   "outputs": [],
   "source": [
    "import pandas as pd\n",
    "from sko.PSO import PSO\n",
    "from sklearn.svm import SVR\n",
    "from sklearn.neighbors import KNeighborsRegressor\n",
    "from sklearn.tree import DecisionTreeRegressor\n",
    "from sklearn.ensemble import RandomForestRegressor\n",
    "from sklearn.ensemble import GradientBoostingRegressor\n",
    "from xgboost import XGBRegressor\n",
    "from sklearn import metrics as mt"
   ]
  },
  {
   "cell_type": "code",
   "execution_count": null,
   "metadata": {},
   "outputs": [],
   "source": [
    "path = '/...'\n",
    "\n",
    "df_train = pd.read_excel(path + 'data.xlsx', sheet_name='train')\n",
    "df_test = pd.read_excel(path + 'data.xlsx', sheet_name='test')"
   ]
  },
  {
   "cell_type": "code",
   "execution_count": null,
   "metadata": {},
   "outputs": [],
   "source": [
    "# FP1 ExtFP1 GraphFP1 EStateFP1 PubchemFP0 SubFP1 SubFPC1 KRFP1 KRFPC1 AD2D1 APC2D1_C_C\n",
    "\n",
    "x_train = pd.read_csv(path + '.../APC_train.csv').loc[:, 'APC2D1_C_C':]\n",
    "x_test = pd.read_csv(path + '.../APC_test.csv').loc[:, 'APC2D1_C_C':]\n",
    "\n",
    "y_train = df_train['logkOH']\n",
    "y_test = df_test['logkOH']\n",
    "\n",
    "times = 1\n",
    "best = 10\n",
    "best_x = []"
   ]
  },
  {
   "cell_type": "code",
   "execution_count": null,
   "metadata": {},
   "outputs": [],
   "source": [
    "#SVM\n",
    "def demo_func(x):\n",
    "    global times\n",
    "    print(f'{\"-\"*10} time：{times} {\"-\"*10}')\n",
    "    cost, gamma = x\n",
    "    modle = SVR(C=cost, gamma=gamma)\n",
    "    modle.fit(x_train, y_train)\n",
    "    predict_test = modle.predict(x_test)\n",
    "\n",
    "    rmse_test = mt.mean_squared_error(y_test, predict_test, squared=False)\n",
    "    r2_test = mt.r2_score(y_test, predict_test)\n",
    "\n",
    "    print(f'{x} r2_test: {r2_test} rmse_test: {rmse_test}')\n",
    "\n",
    "    global best\n",
    "    global best_x\n",
    "    if (rmse_test < best):\n",
    "        best = rmse_test\n",
    "        best_x = x\n",
    "\n",
    "\n",
    "    if (times == 200):\n",
    "        print('final：')\n",
    "        print(best_x)\n",
    "        exit(0)\n",
    "\n",
    "    times += 1\n",
    "    return rmse_test"
   ]
  },
  {
   "cell_type": "code",
   "execution_count": null,
   "metadata": {},
   "outputs": [],
   "source": [
    "#KNN\n",
    "def demo_func(x):\n",
    "    global times\n",
    "    print(f'{\"-\"*10} time：{times} {\"-\"*10}')\n",
    "    # cost, gamma = x\n",
    "    modle = KNeighborsRegressor(n_neighbors=int(x[0]))\n",
    "    modle.fit(x_train, y_train)\n",
    "    predict_test = modle.predict(x_test)\n",
    "\n",
    "    rmse_test = mt.mean_squared_error(y_test, predict_test, squared=False)\n",
    "    r2_test = mt.r2_score(y_test, predict_test)\n",
    "\n",
    "    print(f'{x} r2_test: {r2_test} rmse_test: {rmse_test}')\n",
    "\n",
    "    global best\n",
    "    global best_x\n",
    "    if (rmse_test < best):\n",
    "        best = rmse_test\n",
    "        best_x = x\n",
    "\n",
    "\n",
    "    if (times == 200):\n",
    "        print('final：')\n",
    "        print(best_x)\n",
    "        exit(0)\n",
    "\n",
    "    times += 1\n",
    "    return rmse_test"
   ]
  },
  {
   "cell_type": "code",
   "execution_count": null,
   "metadata": {},
   "outputs": [],
   "source": [
    "#DT\n",
    "def demo_func(x):\n",
    "    global times\n",
    "    print(f'{\"-\"*10} time：{times} {\"-\"*10}')\n",
    "    # cost, gamma = x\n",
    "    modle = DecisionTreeRegressor(max_depth=int(x[0]))\n",
    "    modle.fit(x_train, y_train)\n",
    "    predict_test = modle.predict(x_test)\n",
    "\n",
    "    rmse_test = mt.mean_squared_error(y_test, predict_test, squared=False)\n",
    "    r2_test = mt.r2_score(y_test, predict_test)\n",
    "\n",
    "    print(f'{x} r2_test: {r2_test} rmse_test: {rmse_test}')\n",
    "\n",
    "    global best\n",
    "    global best_x\n",
    "    if (rmse_test < best):\n",
    "        best = rmse_test\n",
    "        best_x = x\n",
    "\n",
    "\n",
    "    if (times == 200):\n",
    "        print('final：')\n",
    "        print(best_x)\n",
    "        exit(0)\n",
    "\n",
    "    times += 1\n",
    "    return rmse_test"
   ]
  },
  {
   "cell_type": "code",
   "execution_count": null,
   "metadata": {},
   "outputs": [],
   "source": [
    "#RF\n",
    "def demo_func(x):\n",
    "    global times\n",
    "    print(f'{\"-\"*10} time：{times} {\"-\"*10}')\n",
    "    max_features, n_estimators = x\n",
    "    modle = RandomForestRegressor(max_features=max_features, n_estimators=int(n_estimators))\n",
    "    modle.fit(x_train, y_train)\n",
    "    predict_test = modle.predict(x_test)\n",
    "\n",
    "    rmse_test = mt.mean_squared_error(y_test, predict_test, squared=False)\n",
    "    r2_test = mt.r2_score(y_test, predict_test)\n",
    "\n",
    "    print(f'{x} r2_test: {r2_test} rmse_test: {rmse_test}')\n",
    "\n",
    "    global best\n",
    "    global best_x\n",
    "    if (rmse_test < best):\n",
    "        best = rmse_test\n",
    "        best_x = x\n",
    "\n",
    "\n",
    "    if (times == 200):\n",
    "        print('final：')\n",
    "        print(best_x)\n",
    "        exit(0)\n",
    "\n",
    "    times += 1\n",
    "    return rmse_test"
   ]
  },
  {
   "cell_type": "code",
   "execution_count": null,
   "metadata": {},
   "outputs": [],
   "source": [
    "#GBDT\n",
    "def demo_func(x):\n",
    "    global times\n",
    "    print(f'{\"-\"*10} time：{times} {\"-\"*10}')\n",
    "    n_estimators, learning_rate = x\n",
    "    modle = GradientBoostingRegressor( n_estimators=int(n_estimators), learning_rate=learning_rate)\n",
    "    modle.fit(x_train, y_train)\n",
    "    predict_test = modle.predict(x_test)\n",
    "\n",
    "    rmse_test = mt.mean_squared_error(y_test, predict_test, squared=False)\n",
    "    r2_test = mt.r2_score(y_test, predict_test)\n",
    "\n",
    "    print(f'{x} r2_test: {r2_test} rmse_test: {rmse_test}')\n",
    "\n",
    "    global best\n",
    "    global best_x\n",
    "    if (rmse_test < best):\n",
    "        best = rmse_test\n",
    "        best_x = x\n",
    "\n",
    "\n",
    "    if (times == 200):\n",
    "        print('final：')\n",
    "        print(best_x)\n",
    "        exit(0)\n",
    "\n",
    "    times += 1\n",
    "    return rmse_test"
   ]
  },
  {
   "cell_type": "code",
   "execution_count": null,
   "metadata": {},
   "outputs": [],
   "source": [
    "#XGB\n",
    "def demo_func(x):\n",
    "    global times\n",
    "    print(f'{\"-\"*10} time：{times} {\"-\"*10}')\n",
    "    learning_rate, max_depth = x\n",
    "    modle = XGBRegressor(learning_rate=learning_rate, max_depth=int(max_depth))\n",
    "    modle.fit(x_train, y_train)\n",
    "    predict_test = modle.predict(x_test)\n",
    "\n",
    "    rmse_test = mt.mean_squared_error(y_test, predict_test, squared=False)\n",
    "    r2_test = mt.r2_score(y_test, predict_test)\n",
    "\n",
    "    print(f'{x} r2_test: {r2_test} rmse_test: {rmse_test}')\n",
    "\n",
    "    global best\n",
    "    global best_x\n",
    "    if (rmse_test < best):\n",
    "        best = rmse_test\n",
    "        best_x = x\n",
    "\n",
    "\n",
    "    if (times == 200):\n",
    "        print('final：')\n",
    "        print(best_x)\n",
    "        exit(0)\n",
    "\n",
    "    times += 1\n",
    "    return rmse_test"
   ]
  },
  {
   "cell_type": "code",
   "execution_count": null,
   "metadata": {},
   "outputs": [],
   "source": [
    "pso = PSO(\n",
    "    func=demo_func,\n",
    "    n_dim=2,\n",
    "    pop=40,\n",
    "    max_iter=200,\n",
    "    lb=[1, 1E-6],\n",
    "    ub=[10000, 0.1],\n",
    "    w=0.8, c1=0.5, c2=0.5\n",
    ")\n",
    "\n",
    "pso.run()"
   ]
  },
  {
   "cell_type": "markdown",
   "metadata": {},
   "source": [
    "# Model construction and evaluation"
   ]
  },
  {
   "cell_type": "code",
   "execution_count": null,
   "metadata": {},
   "outputs": [],
   "source": [
    "import numpy as np\n",
    "import pandas as pd\n",
    "from numpy import mean\n",
    "from sklearn.model_selection import KFold\n",
    "from sklearn.svm import SVR\n",
    "from sklearn.neighbors import KNeighborsRegressor\n",
    "from sklearn.tree import DecisionTreeRegressor\n",
    "from sklearn.ensemble import GradientBoostingRegressor\n",
    "from sklearn.ensemble import RandomForestRegressor\n",
    "from xgboost import XGBRegressor\n",
    "from sklearn import metrics as mt"
   ]
  },
  {
   "cell_type": "code",
   "execution_count": null,
   "metadata": {},
   "outputs": [],
   "source": [
    "path = '/.../Data/OH/'\n",
    "\n",
    "df_train = pd.read_excel(path + 'data.xlsx', sheet_name='train')\n",
    "df_test = pd.read_excel(path + 'data.xlsx', sheet_name='test')"
   ]
  },
  {
   "cell_type": "code",
   "execution_count": null,
   "metadata": {},
   "outputs": [],
   "source": [
    "#FP1 ExtFP1 GraphFP1 EStateFP1 PubchemFP0 SubFP1 SubFPC1 KRFP1 KRFPC1 AD2D1 APC2D1_C_C\n",
    "x_train = pd.read_csv(path + 'MF/Morgan_train.csv').loc[:, '0':] \n",
    "x_test = pd.read_csv(path + 'MF/Morgan_test.csv').loc[:, '0':]"
   ]
  },
  {
   "cell_type": "code",
   "execution_count": null,
   "metadata": {},
   "outputs": [],
   "source": [
    "y_train = df_train['logkOH']\n",
    "y_test = df_test['logkOH']\n",
    "\n",
    "times = 1\n",
    "R2_trains = []\n",
    "RMSE_trains = []"
   ]
  },
  {
   "cell_type": "code",
   "execution_count": null,
   "metadata": {},
   "outputs": [],
   "source": [
    "#SVM\n",
    "model = 0\n",
    "best = [10000, 0.000001]\n",
    "kfold = KFold(n_splits=10)\n",
    "for train_index, test_index in kfold.split(x_train):\n",
    "    print(f'times: {times}')\n",
    "    X_train, X_test = x_train.iloc[train_index], x_train.iloc[test_index]\n",
    "    Y_train, Y_test = y_train.iloc[train_index], y_train.iloc[test_index]\n",
    "\n",
    "    model = SVR(C=best[0], gamma=best[1])\n",
    "    model.fit(X_train, Y_train)\n",
    "    predict_train = model.predict(X_train)\n",
    "    predict_test = model.predict(X_test)\n",
    "\n",
    "    rmse_train = mt.mean_squared_error(Y_train, predict_train, squared=False)\n",
    "    r2_train = mt.r2_score(Y_train, predict_train)\n",
    "\n",
    "    RMSE_trains.append(rmse_train)\n",
    "    R2_trains.append(r2_train)\n",
    "    times += 1"
   ]
  },
  {
   "cell_type": "code",
   "execution_count": null,
   "metadata": {},
   "outputs": [],
   "source": [
    "#KNN\n",
    "model = 0\n",
    "kfold = KFold(n_splits=10)\n",
    "for train_index, test_index in kfold.split(x_train):\n",
    "    print(f'times: {times}')\n",
    "    X_train, X_test = x_train.iloc[train_index], x_train.iloc[test_index]\n",
    "    Y_train, Y_test = y_train.iloc[train_index], y_train.iloc[test_index]\n",
    "\n",
    "    model = KNeighborsRegressor(n_neighbors=3)\n",
    "    model.fit(X_train, Y_train)\n",
    "    predict_train = model.predict(X_train)\n",
    "    predict_test = model.predict(X_test)\n",
    "\n",
    "    rmse_train = mt.mean_squared_error(Y_train, predict_train, squared=False)\n",
    "    r2_train = mt.r2_score(Y_train, predict_train)\n",
    "\n",
    "    RMSE_trains.append(rmse_train)\n",
    "    R2_trains.append(r2_train)\n",
    "    times += 1"
   ]
  },
  {
   "cell_type": "code",
   "execution_count": null,
   "metadata": {},
   "outputs": [],
   "source": [
    "#DT\n",
    "model = 0\n",
    "kfold = KFold(n_splits=10)\n",
    "for train_index, test_index in kfold.split(x_train):\n",
    "    print(f'times: {times}')\n",
    "    X_train, X_test = x_train.iloc[train_index], x_train.iloc[test_index]\n",
    "    Y_train, Y_test = y_train.iloc[train_index], y_train.iloc[test_index]\n",
    "\n",
    "    model = DecisionTreeRegressor(max_depth=9, random_state=3)\n",
    "    model.fit(X_train, Y_train)\n",
    "    predict_train = model.predict(X_train)\n",
    "    predict_test = model.predict(X_test)\n",
    "\n",
    "    rmse_train = mt.mean_squared_error(Y_train, predict_train, squared=False)\n",
    "    r2_train = mt.r2_score(Y_train, predict_train)\n",
    "\n",
    "    RMSE_trains.append(rmse_train)\n",
    "    R2_trains.append(r2_train)\n",
    "    times += 1"
   ]
  },
  {
   "cell_type": "code",
   "execution_count": null,
   "metadata": {},
   "outputs": [],
   "source": [
    "#RF\n",
    "model = 0\n",
    "best = [ 0.5503,\t54]\n",
    "kfold = KFold(n_splits=10)\n",
    "for train_index, test_index in kfold.split(x_train):\n",
    "    print(f'times: {times}')\n",
    "    X_train, X_test = x_train.iloc[train_index], x_train.iloc[test_index]\n",
    "    Y_train, Y_test = y_train.iloc[train_index], y_train.iloc[test_index]\n",
    "\n",
    "    model = RandomForestRegressor(max_features=best[0], n_estimators=int(best[1]), random_state=3)\n",
    "    model.fit(X_train, Y_train)\n",
    "    predict_train = model.predict(X_train)\n",
    "    predict_test = model.predict(X_test)\n",
    "\n",
    "    rmse_train = mt.mean_squared_error(Y_train, predict_train, squared=False)\n",
    "    r2_train = mt.r2_score(Y_train, predict_train)\n",
    "\n",
    "    RMSE_trains.append(rmse_train)\n",
    "    R2_trains.append(r2_train)\n",
    "    times += 1"
   ]
  },
  {
   "cell_type": "code",
   "execution_count": null,
   "metadata": {},
   "outputs": [],
   "source": [
    "#GBDT\n",
    "model = 0\n",
    "best = [23, 0.4087]\n",
    "kfold = KFold(n_splits=10)\n",
    "for train_index, test_index in kfold.split(x_train):\n",
    "    print(f'times: {times}')\n",
    "    X_train, X_test = x_train.iloc[train_index], x_train.iloc[test_index]\n",
    "    Y_train, Y_test = y_train.iloc[train_index], y_train.iloc[test_index]\n",
    "\n",
    "    model = GradientBoostingRegressor(learning_rate=best[1], n_estimators=int(best[0]), random_state=3)\n",
    "    model.fit(X_train, Y_train)\n",
    "    predict_train = model.predict(X_train)\n",
    "    predict_test = model.predict(X_test)\n",
    "\n",
    "    rmse_train = mt.mean_squared_error(Y_train, predict_train, squared=False)\n",
    "    r2_train = mt.r2_score(Y_train, predict_train)\n",
    "\n",
    "    RMSE_trains.append(rmse_train)\n",
    "    R2_trains.append(r2_train)\n",
    "    times += 1"
   ]
  },
  {
   "cell_type": "code",
   "execution_count": null,
   "metadata": {},
   "outputs": [],
   "source": [
    "#XGB\n",
    "model = 0\n",
    "best = [0.2548,  6]\n",
    "kfold = KFold(n_splits=10)\n",
    "for train_index, test_index in kfold.split(x_train):\n",
    "    print(f'times: {times}')\n",
    "    X_train, X_test = x_train.iloc[train_index], x_train.iloc[test_index]\n",
    "    Y_train, Y_test = y_train.iloc[train_index], y_train.iloc[test_index]\n",
    "\n",
    "    model = XGBRegressor(learning_rate=best[0], max_depth=int(best[1]))\n",
    "    model.fit(X_train, Y_train)\n",
    "    predict_train = model.predict(X_train)\n",
    "    predict_test = model.predict(X_test)\n",
    "\n",
    "    rmse_train = mt.mean_squared_error(Y_train, predict_train, squared=False)\n",
    "    r2_train = mt.r2_score(Y_train, predict_train)\n",
    "\n",
    "    RMSE_trains.append(rmse_train)\n",
    "    R2_trains.append(r2_train)\n",
    "    times += 1"
   ]
  },
  {
   "cell_type": "code",
   "execution_count": null,
   "metadata": {},
   "outputs": [],
   "source": [
    "model.fit(x_train, y_train)\n",
    "predict_train = model.predict(x_train)\n",
    "predict_test = model.predict(x_test)"
   ]
  },
  {
   "cell_type": "code",
   "execution_count": null,
   "metadata": {},
   "outputs": [],
   "source": [
    "fin = pd.concat([pd.DataFrame(predict_train), pd.DataFrame(predict_test)])"
   ]
  },
  {
   "cell_type": "code",
   "execution_count": null,
   "metadata": {},
   "outputs": [],
   "source": [
    "pd.DataFrame(fin).to_csv(path + 'SHAP/1.csv')"
   ]
  },
  {
   "cell_type": "code",
   "execution_count": null,
   "metadata": {},
   "outputs": [],
   "source": [
    "def Q2ext(y_test, y_pre, y_train):\n",
    "    SStot = np.sum((y_test - np.mean(y_train))**2)\n",
    "    SSres = np.sum((y_test - y_pre)**2)\n",
    "    return 1 - SSres/SStot\n",
    "\n",
    "rmse_test = mt.mean_squared_error(y_test, predict_test, squared=False)\n",
    "r2_test = mt.r2_score(y_test, predict_test)\n",
    "\n",
    "print(mean(R2_trains), mean(RMSE_trains), Q2ext(y_test, predict_test, y_train), r2_test, rmse_test)"
   ]
  },
  {
   "cell_type": "markdown",
   "metadata": {},
   "source": [
    "# Model interpretation"
   ]
  },
  {
   "cell_type": "code",
   "execution_count": null,
   "metadata": {},
   "outputs": [],
   "source": [
    "import shap\n",
    "import numpy as np\n",
    "import pandas as pd\n",
    "from xgboost import XGBRegressor"
   ]
  },
  {
   "cell_type": "code",
   "execution_count": null,
   "metadata": {},
   "outputs": [],
   "source": [
    "path = '/.../OH/'\n",
    "\n",
    "df_train = pd.read_excel(path + 'data.xlsx', sheet_name='train')\n",
    "df_test = pd.read_excel(path + 'data.xlsx', sheet_name='test')"
   ]
  },
  {
   "cell_type": "code",
   "execution_count": null,
   "metadata": {},
   "outputs": [],
   "source": [
    "# FP1 ExtFP1 GraphFP1 EStateFP1 PubchemFP0 SubFP1 SubFPC1 KRFP1 KRFPC1 AD2D1 APC2D1_C_C\n",
    "\n",
    "x_train = pd.read_csv(path + 'MF/Morgan_train.csv').loc[:, '0':]\n",
    "x_test = pd.read_csv(path + 'MF/Morgan_test.csv').loc[:, '0':]"
   ]
  },
  {
   "cell_type": "code",
   "execution_count": null,
   "metadata": {},
   "outputs": [],
   "source": [
    "names = []\n",
    "for i in np.arange(x_train.shape[1]):\n",
    "    names.append('Feature ' + str(i))\n",
    "\n",
    "x_train.columns = names\n",
    "x_test.columns = names\n",
    "\n",
    "y_train = df_train['logkO3']\n",
    "y_test = df_test['logkO3']\n",
    "\n",
    "model = XGBRegressor(learning_rate=0.3466, max_depth=8)\n",
    "model.fit(x_train, y_train)\n",
    "predict_train = model.predict(x_train)\n",
    "predict_test = model.predict(x_test)\n",
    "\n",
    "explainer = shap.TreeExplainer(model)\n",
    "\n",
    "# SHAP_train\n",
    "shap_values_train = explainer.shap_values(x_train)\n",
    "shap.summary_plot(shap_values_train, x_train, )\n",
    "\n",
    "# SHAP_test\n",
    "shap_values_test = explainer.shap_values(x_test)\n",
    "shap.summary_plot(shap_values_test, x_test)\n",
    "\n",
    "pd.DataFrame(shap_values_train).to_csv(path + 'SHAP/Morgan_train.csv')"
   ]
  },
  {
   "cell_type": "code",
   "execution_count": null,
   "metadata": {},
   "outputs": [],
   "source": [
    "#Featrue viz\n",
    "from rdkit import Chem\n",
    "from rdkit.Chem import AllChem, Draw"
   ]
  },
  {
   "cell_type": "code",
   "execution_count": null,
   "metadata": {},
   "outputs": [],
   "source": [
    "mol = Chem.MolFromSmiles('C(=O)O')\n",
    "info = {}\n",
    "fp = AllChem.GetMorganFingerprintAsBitVect(mol, 2, nBits=4006, bitInfo=info)\n",
    "print(info)\n",
    "\n",
    "Draw.DrawMorganBit(mol,2452, info)"
   ]
  },
  {
   "cell_type": "markdown",
   "metadata": {},
   "source": [
    "# Applicability domain "
   ]
  },
  {
   "cell_type": "code",
   "execution_count": null,
   "metadata": {},
   "outputs": [],
   "source": [
    "import math\n",
    "import numpy as np\n",
    "import pandas as pd\n",
    "from sklearn.svm import SVR\n",
    "from sklearn.neighbors import KNeighborsRegressor\n",
    "from sklearn.tree import DecisionTreeRegressor\n",
    "from sklearn.ensemble import RandomForestRegressor\n",
    "from sklearn.ensemble import GradientBoostingRegressor\n",
    "from xgboost import XGBRegressor"
   ]
  },
  {
   "cell_type": "code",
   "execution_count": null,
   "metadata": {},
   "outputs": [],
   "source": [
    "path = '.../OH/'\n",
    "\n",
    "df_train = pd.read_excel(path + 'data.xlsx', sheet_name='train')\n",
    "df_test = pd.read_excel(path + 'data.xlsx', sheet_name='test')"
   ]
  },
  {
   "cell_type": "code",
   "execution_count": null,
   "metadata": {},
   "outputs": [],
   "source": [
    "# FP1 ExtFP1 GraphFP1 EStateFP1 PubchemFP0 SubFP1 SubFPC1 KRFP1 KRFPC1 AD2D1 APC2D1_C_C\n",
    "X_train = pd.read_csv(path + 'MF/Estate_train.csv').loc[:, 'EStateFP1':]\n",
    "X_test = pd.read_csv(path + 'MF/Estate_test.csv').loc[:, 'EStateFP1':]\n",
    "\n",
    "y_train = df_train['logkOH']\n",
    "y_test = df_test['logkOH']"
   ]
  },
  {
   "cell_type": "code",
   "execution_count": null,
   "metadata": {},
   "outputs": [],
   "source": [
    "model = XGBRegressor(learning_rate=1, max_depth=10)\n",
    "\n",
    "ts_max = pd.read_csv(path + 'AD/Estate_max.csv')['0']\n",
    "ts_mean = pd.read_csv(path + 'AD/Estate_mean.csv')['0']"
   ]
  },
  {
   "cell_type": "code",
   "execution_count": null,
   "metadata": {},
   "outputs": [],
   "source": [
    "yuzhis = []\n",
    "for i in np.sort(np.array(ts_max)):\n",
    "    num = math.floor(i*1000)/1000\n",
    "    if len(yuzhis) == 0:\n",
    "        yuzhis.append(num)\n",
    "        continue\n",
    "\n",
    "    if (num != yuzhis[len(yuzhis) - 1]):\n",
    "        yuzhis.append(num)\n",
    "\n",
    "    if len(yuzhis) > 4:\n",
    "        break\n",
    "\n",
    "yuzhis2 = []\n",
    "for i in np.sort(np.array(ts_mean)):\n",
    "    num = math.floor(i * 1000) / 1000\n",
    "    if len(yuzhis2) == 0:\n",
    "        yuzhis2.append(num)\n",
    "        continue\n",
    "\n",
    "    if (num != yuzhis2[len(yuzhis2) - 1]):\n",
    "        yuzhis2.append(num)\n",
    "\n",
    "    if len(yuzhis2) > 4:\n",
    "        break\n",
    "\n",
    "print(yuzhis)\n",
    "print(yuzhis2)"
   ]
  },
  {
   "cell_type": "code",
   "execution_count": null,
   "metadata": {},
   "outputs": [],
   "source": [
    "Q2s = []\n",
    "for yuzhi in yuzhis:\n",
    "    a = 0\n",
    "    index = []\n",
    "    for x in ts_max:\n",
    "        if x < yuzhi:\n",
    "            index.append(a)\n",
    "        a = a + 1\n",
    "    print(index)\n",
    "\n",
    "    X_test2 = X_test.drop(np.array(X_test.index)[index])\n",
    "    y_test2 = y_test.drop(np.array(y_test.index)[index])\n",
    "\n",
    "    model.fit(X_train, y_train)\n",
    "\n",
    "    predict_train = model.predict(X_train)\n",
    "    predict_test = model.predict(X_test2)\n",
    "\n",
    "    def Q2ext(y_test, y_pre, y_train):\n",
    "        SStot = np.sum((y_test - np.mean(y_train))**2)\n",
    "        SSres = np.sum((y_test - y_pre)**2)\n",
    "        return 1 - SSres/SStot\n",
    "\n",
    "\n",
    "    Q2s.append(Q2ext(y_test2, predict_test, y_train))"
   ]
  },
  {
   "cell_type": "code",
   "execution_count": null,
   "metadata": {},
   "outputs": [],
   "source": [
    "for yuzhi in yuzhis2:\n",
    "    a = 0\n",
    "    index = []\n",
    "    for x in ts_mean:\n",
    "        if x < yuzhi:\n",
    "            index.append(a)\n",
    "        a = a + 1\n",
    "    print(index)\n",
    "\n",
    "    X_test3 = X_test.drop(np.array(X_test.index)[index])\n",
    "    y_test3 = y_test.drop(np.array(y_test.index)[index])\n",
    "\n",
    "    model.fit(X_train, y_train)\n",
    "\n",
    "    predict_train = model.predict(X_train)\n",
    "    predict_test = model.predict(X_test3)\n",
    "\n",
    "    def Q2ext(y_test, y_pre, y_train):\n",
    "        SStot = np.sum((y_test - np.mean(y_train))**2)\n",
    "        SSres = np.sum((y_test - y_pre)**2)\n",
    "        return 1 - SSres/SStot\n",
    "\n",
    "\n",
    "    Q2s.append(Q2ext(y_test3, predict_test, y_train))\n",
    "\n",
    "print(Q2s)"
   ]
  },
  {
   "cell_type": "code",
   "execution_count": null,
   "metadata": {},
   "outputs": [],
   "source": [
    "#Practical application "
   ]
  },
  {
   "cell_type": "code",
   "execution_count": null,
   "metadata": {},
   "outputs": [],
   "source": [
    "path = '.../OH/'\n",
    "\n",
    "df_train = pd.read_excel(path + 'data.xlsx', sheet_name='train')\n",
    "df_test = pd.read_excel(path + 'data.xlsx', sheet_name='test')"
   ]
  },
  {
   "cell_type": "code",
   "execution_count": null,
   "metadata": {},
   "outputs": [],
   "source": [
    "# FP1 ExtFP1 GraphFP1 EStateFP1 PubchemFP0 SubFP1 SubFPC1 KRFP1 KRFPC1 AD2D1 APC2D1_C_C\n",
    "\n",
    "X_train = pd.read_csv(path + 'MF/MACCS_train2.csv').loc[:, 'MACCSFP1':]\n",
    "X_test = pd.read_csv(path + 'MF/MACCS_test2.csv').loc[:, 'MACCSFP1':]"
   ]
  },
  {
   "cell_type": "code",
   "execution_count": null,
   "metadata": {},
   "outputs": [],
   "source": [
    "ts_max = []\n",
    "for x_test in np.array(X_test):\n",
    "    ts_one = []\n",
    "    for x_train in np.array(X_train):\n",
    "        na = np.sum(x_test)\n",
    "        nb = np.sum(x_train)\n",
    "        nc = 0\n",
    "        for x in x_test + x_train:\n",
    "            if x > 1:\n",
    "                nc = nc + 1\n",
    "        t = nc / (na + nb - nc)\n",
    "        ts_one.append(t)\n",
    "    ts_mean.append(np.mean(ts_one))\n",
    "    ts_max.append(max(ts_one))\n",
    "\n",
    "\n",
    "print(ts_mean)\n",
    "print(ts_max)"
   ]
  }
 ],
 "metadata": {
  "kernelspec": {
   "display_name": "envpy38",
   "language": "python",
   "name": "python3"
  },
  "language_info": {
   "name": "python",
   "version": "3.8.16"
  },
  "orig_nbformat": 4
 },
 "nbformat": 4,
 "nbformat_minor": 2
}
